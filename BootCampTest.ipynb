{
  "nbformat": 4,
  "nbformat_minor": 0,
  "metadata": {
    "colab": {
      "name": "BootCampTest",
      "provenance": []
    },
    "kernelspec": {
      "name": "python3",
      "display_name": "Python 3"
    }
  },
  "cells": [
    {
      "cell_type": "code",
      "metadata": {
        "colab": {
          "base_uri": "https://localhost:8080/"
        },
        "id": "IvC29W7GP9nB",
        "outputId": "288cde95-b1c2-4796-e5f5-1c51869d3934"
      },
      "source": [
        "name = input (\"Enter your name:\")\r\n",
        "print (\"Hello your name is\" , name)\r\n"
      ],
      "execution_count": 1,
      "outputs": [
        {
          "output_type": "stream",
          "text": [
            "Enter your name:sultan\n",
            "Hello your name is sultan\n"
          ],
          "name": "stdout"
        }
      ]
    },
    {
      "cell_type": "code",
      "metadata": {
        "colab": {
          "base_uri": "https://localhost:8080/"
        },
        "id": "bgR4msqARMjP",
        "outputId": "362a88b4-7b66-4bec-b7d6-5b9dbddc6a15"
      },
      "source": [
        "num1 = input (\"Enter first number:\")\r\n",
        "num2 = input (\"Enter second number:\")\r\n",
        "sum = float ((num1 + num2))\r\n",
        "print (sum)"
      ],
      "execution_count": 10,
      "outputs": [
        {
          "output_type": "stream",
          "text": [
            "Enter first number:1\n",
            "Enter second number:2\n",
            "12.0\n"
          ],
          "name": "stdout"
        }
      ]
    }
  ]
}